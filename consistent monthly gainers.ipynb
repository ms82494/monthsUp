{
 "cells": [
  {
   "cell_type": "markdown",
   "id": "declared-agency",
   "metadata": {},
   "source": [
    "# Consistent Monthly Gainers"
   ]
  },
  {
   "cell_type": "markdown",
   "id": "configured-gospel",
   "metadata": {},
   "source": [
    "In Michael Kramer's \"Reading the Markets\" trading chatroom I asked the following question:\n",
    "> I have a question for everyone: Imagine you took all stocks that are currently listed in the US and that have at least 10 years of trading history and you looked at their MONTHLY price histories, and ordered them by how often they had a positive return in a given month. So, instead of looking at average monthly appreciation, or compound appreciation, you'd be looking for consistency of appreciation. My question: Which stocks do you think would have done best? And how often might the top performer have been up? 10 years = 120 months, so maybe 90 months of positive returns? 100? I don't know the answers but I am curious.\n",
    "\n",
    "Sadly, nobody responded. :(\n",
    "\n",
    "Still, I was curious. Why? An explanation is in order:\n",
    "\n",
    "Yes, in the end, it all comes down to compound annual growth rates (cagr). A stock that treads water or even loses value for 2 out of every 3 months can still have a superior appreciation, if in the remaining month it performs spectacularly. So, why should anyone care about the frequency of positive returns? Isn't that just the wrong thing to look at? I don't think so:\n",
    "\n",
    "There's a truism about the human psyche, which holds that the pain we feel from suffering is always more intense than the joy we derive from our victories. So, rollercoaster stocks may bring supreme *financial* gains, but that gain comes at the cost of great *emotional* loss. The practical consequence is that there's always a temptation to sell such volatile winners too soon, or, at the very least, to hold significant cash or other hedges to offset the pain these stocks intermittently inflict.\n",
    "\n",
    "The other extreme would be a stock that goes up very slightly every month. If an investor takes confidence from the consistency of such a stock, (s)he might reduce cash reserves to allocate more capital to it, thus compensating for the smaller percentage returns experienced by such a stock.\n",
    "\n",
    "So, I had to find out: Which stocks are consistent monthly winners? Are they different from others in some way?"
   ]
  },
  {
   "cell_type": "code",
   "execution_count": 1,
   "id": "liberal-community",
   "metadata": {},
   "outputs": [],
   "source": [
    "import pandas as pd\n",
    "import matplotlib.pyplot as plt\n",
    "%matplotlib inline"
   ]
  },
  {
   "cell_type": "markdown",
   "id": "sustainable-hostel",
   "metadata": {},
   "source": [
    "`STATSFILE` (below) is a CSV file containing one row for US-listed equities with at least 10 years of history, excluding SPACs, units, ETFs, over-the-counter issues, and secondary stock classes. The data is originally assembled using AlphaVantage, the SEC, and MergentOnline. For each of these equities I obtained monthly stock price information from Tiingo and calculated the number of positive monthly returns between 04/2011 and 03/2021, inclusively. There are 2,828 stocks in the dataset.\n",
    "\n",
    "`CLASSIFICATIONFILE` provides sector and industry assignments for each stock in `STATSFILE`."
   ]
  },
  {
   "cell_type": "code",
   "execution_count": 2,
   "id": "arctic-institution",
   "metadata": {},
   "outputs": [],
   "source": [
    "STATSFILE = './stats.csv'\n",
    "CLASSIFICATIONFILE = './classification.csv'\n",
    "stats = pd.read_csv(STATSFILE, index_col=\"ticker\")\n",
    "classification = pd.read_csv(CLASSIFICATIONFILE, index_col='symbol')\n",
    "df = classification.merge(stats, how='left', left_index=True, right_index=True).sort_index()"
   ]
  },
  {
   "cell_type": "code",
   "execution_count": 3,
   "id": "authorized-accommodation",
   "metadata": {},
   "outputs": [
    {
     "name": "stdout",
     "output_type": "stream",
     "text": [
      "<class 'pandas.core.frame.DataFrame'>\n",
      "Index: 2828 entries, A to ZYXI\n",
      "Data columns (total 4 columns):\n",
      " #   Column            Non-Null Count  Dtype \n",
      "---  ------            --------------  ----- \n",
      " 0   name              2828 non-null   object\n",
      " 1   sector            2828 non-null   object\n",
      " 2   industry          2828 non-null   object\n",
      " 3   positive returns  2828 non-null   int64 \n",
      "dtypes: int64(1), object(3)\n",
      "memory usage: 110.5+ KB\n"
     ]
    }
   ],
   "source": [
    "df.info()"
   ]
  },
  {
   "cell_type": "code",
   "execution_count": 4,
   "id": "tribal-zoning",
   "metadata": {},
   "outputs": [
    {
     "data": {
      "text/html": [
       "<div>\n",
       "<style scoped>\n",
       "    .dataframe tbody tr th:only-of-type {\n",
       "        vertical-align: middle;\n",
       "    }\n",
       "\n",
       "    .dataframe tbody tr th {\n",
       "        vertical-align: top;\n",
       "    }\n",
       "\n",
       "    .dataframe thead th {\n",
       "        text-align: right;\n",
       "    }\n",
       "</style>\n",
       "<table border=\"1\" class=\"dataframe\">\n",
       "  <thead>\n",
       "    <tr style=\"text-align: right;\">\n",
       "      <th></th>\n",
       "      <th>name</th>\n",
       "      <th>sector</th>\n",
       "      <th>industry</th>\n",
       "      <th>positive returns</th>\n",
       "    </tr>\n",
       "    <tr>\n",
       "      <th>symbol</th>\n",
       "      <th></th>\n",
       "      <th></th>\n",
       "      <th></th>\n",
       "      <th></th>\n",
       "    </tr>\n",
       "  </thead>\n",
       "  <tbody>\n",
       "    <tr>\n",
       "      <th>A</th>\n",
       "      <td>Agilent Technologies Inc</td>\n",
       "      <td>HEALTHCARE</td>\n",
       "      <td>HCAREMISC</td>\n",
       "      <td>68</td>\n",
       "    </tr>\n",
       "    <tr>\n",
       "      <th>AACG</th>\n",
       "      <td>ATA Creativity Global</td>\n",
       "      <td>NONCYCLICAL</td>\n",
       "      <td>HOUSESVCE</td>\n",
       "      <td>52</td>\n",
       "    </tr>\n",
       "    <tr>\n",
       "      <th>AAIC</th>\n",
       "      <td>Arlington Asset Investment Corp</td>\n",
       "      <td>FINANCIAL</td>\n",
       "      <td>REIT</td>\n",
       "      <td>62</td>\n",
       "    </tr>\n",
       "    <tr>\n",
       "      <th>AAL</th>\n",
       "      <td>American Airlines Group Inc</td>\n",
       "      <td>INDUSTRIAL</td>\n",
       "      <td>PASSENGERTRANS</td>\n",
       "      <td>66</td>\n",
       "    </tr>\n",
       "    <tr>\n",
       "      <th>AAME</th>\n",
       "      <td>Atlantic American Corp</td>\n",
       "      <td>FINANCIAL</td>\n",
       "      <td>INSURANCE</td>\n",
       "      <td>54</td>\n",
       "    </tr>\n",
       "    <tr>\n",
       "      <th>AAON</th>\n",
       "      <td>AAON Inc</td>\n",
       "      <td>INDUSTRIAL</td>\n",
       "      <td>MACHINE</td>\n",
       "      <td>74</td>\n",
       "    </tr>\n",
       "    <tr>\n",
       "      <th>AAP</th>\n",
       "      <td>Advance Auto Parts Inc.</td>\n",
       "      <td>CYCLICALS</td>\n",
       "      <td>AUTORETAIL</td>\n",
       "      <td>65</td>\n",
       "    </tr>\n",
       "    <tr>\n",
       "      <th>AAPL</th>\n",
       "      <td>Apple Inc</td>\n",
       "      <td>TECH</td>\n",
       "      <td>COMMEQUIP</td>\n",
       "      <td>70</td>\n",
       "    </tr>\n",
       "    <tr>\n",
       "      <th>AAT</th>\n",
       "      <td>American Assets Trust Inc</td>\n",
       "      <td>FINANCIAL</td>\n",
       "      <td>REIT</td>\n",
       "      <td>71</td>\n",
       "    </tr>\n",
       "    <tr>\n",
       "      <th>AAU</th>\n",
       "      <td>Almaden Minerals Ltd</td>\n",
       "      <td>MATERIALS</td>\n",
       "      <td>ORE</td>\n",
       "      <td>49</td>\n",
       "    </tr>\n",
       "  </tbody>\n",
       "</table>\n",
       "</div>"
      ],
      "text/plain": [
       "                                   name       sector        industry  \\\n",
       "symbol                                                                 \n",
       "A              Agilent Technologies Inc   HEALTHCARE       HCAREMISC   \n",
       "AACG              ATA Creativity Global  NONCYCLICAL       HOUSESVCE   \n",
       "AAIC    Arlington Asset Investment Corp    FINANCIAL            REIT   \n",
       "AAL         American Airlines Group Inc   INDUSTRIAL  PASSENGERTRANS   \n",
       "AAME             Atlantic American Corp    FINANCIAL       INSURANCE   \n",
       "AAON                           AAON Inc   INDUSTRIAL         MACHINE   \n",
       "AAP             Advance Auto Parts Inc.    CYCLICALS      AUTORETAIL   \n",
       "AAPL                          Apple Inc         TECH       COMMEQUIP   \n",
       "AAT           American Assets Trust Inc    FINANCIAL            REIT   \n",
       "AAU                Almaden Minerals Ltd    MATERIALS             ORE   \n",
       "\n",
       "        positive returns  \n",
       "symbol                    \n",
       "A                     68  \n",
       "AACG                  52  \n",
       "AAIC                  62  \n",
       "AAL                   66  \n",
       "AAME                  54  \n",
       "AAON                  74  \n",
       "AAP                   65  \n",
       "AAPL                  70  \n",
       "AAT                   71  \n",
       "AAU                   49  "
      ]
     },
     "execution_count": 4,
     "metadata": {},
     "output_type": "execute_result"
    }
   ],
   "source": [
    "df.head(10) # The table below shows the first 10 records of the dataset. Note that AAPL has\n",
    "            # fewer positive monthly returns than one might expect from such a stellar performer."
   ]
  },
  {
   "cell_type": "markdown",
   "id": "wrapped-record",
   "metadata": {},
   "source": [
    "Let's create a couple of data series to hold the sector and industry frequencies in the overall population."
   ]
  },
  {
   "cell_type": "code",
   "execution_count": 5,
   "id": "stretch-graham",
   "metadata": {},
   "outputs": [],
   "source": [
    "sectorcount = df['sector'].value_counts(sort=True)\n",
    "industrycount = df['industry'].value_counts(sort=False).sort_index()\n"
   ]
  },
  {
   "cell_type": "code",
   "execution_count": 6,
   "id": "stainless-belly",
   "metadata": {
    "scrolled": true
   },
   "outputs": [
    {
     "data": {
      "text/plain": [
       "FINANCIAL       724\n",
       "HEALTHCARE      390\n",
       "TECH            326\n",
       "INDUSTRIAL      318\n",
       "MATERIALS       238\n",
       "CYCLICALS       180\n",
       "NONCYCLICAL     171\n",
       "ENERGY          145\n",
       "BIZSVCE         106\n",
       "CONSUMERSVCE    100\n",
       "UTIL             71\n",
       "TELECOM          59\n",
       "Name: sector, dtype: int64"
      ]
     },
     "execution_count": 6,
     "metadata": {},
     "output_type": "execute_result"
    }
   ],
   "source": [
    "sectorcount"
   ]
  },
  {
   "cell_type": "code",
   "execution_count": 7,
   "id": "linear-forty",
   "metadata": {},
   "outputs": [
    {
     "data": {
      "text/plain": [
       "AERODEF            41\n",
       "AGRICULTURE        14\n",
       "APPARELPRODUCTS    31\n",
       "APPARELRETAIL      22\n",
       "APPLIANCESFURN      8\n",
       "Name: industry, dtype: int64"
      ]
     },
     "execution_count": 7,
     "metadata": {},
     "output_type": "execute_result"
    }
   ],
   "source": [
    "industrycount.head()"
   ]
  },
  {
   "cell_type": "markdown",
   "id": "integral-glance",
   "metadata": {},
   "source": [
    "And one more series, `freq`, to contain the distribution of stocks across a given number of positive monthly returns. So, the series index is the number of months (out of a max of 120) with positive returns, while the value of the series is the number of stocks achieving exactly that number. If no stocks achieved a given level, then that index level is missing in `freq`."
   ]
  },
  {
   "cell_type": "code",
   "execution_count": 8,
   "id": "concrete-peeing",
   "metadata": {},
   "outputs": [
    {
     "data": {
      "text/plain": [
       "74    81\n",
       "75    67\n",
       "76    44\n",
       "77    31\n",
       "78    19\n",
       "79    10\n",
       "80     9\n",
       "81    11\n",
       "82     6\n",
       "83     4\n",
       "Name: positive returns, dtype: int64"
      ]
     },
     "execution_count": 8,
     "metadata": {},
     "output_type": "execute_result"
    }
   ],
   "source": [
    "freq = df['positive returns'].value_counts(sort=False).sort_index()\n",
    "freq.tail(10) # Last 10 records of freq series"
   ]
  },
  {
   "cell_type": "markdown",
   "id": "least-assessment",
   "metadata": {},
   "source": [
    "Time to plot `freq`:"
   ]
  },
  {
   "cell_type": "code",
   "execution_count": 9,
   "id": "straight-jefferson",
   "metadata": {},
   "outputs": [
    {
     "data": {
      "text/plain": [
       "[Text(0.5, 0, 'positive return months'),\n",
       " Text(0, 0.5, 'number of stocks'),\n",
       " Text(0.5, 1.0, 'Number of Months with Positive Returns in the Last Ten Years,\\nFrequency Distribution Across US-Listed Stocks (n=2828)')]"
      ]
     },
     "execution_count": 9,
     "metadata": {},
     "output_type": "execute_result"
    },
    {
     "data": {
      "image/png": "[encoded data removed]",
      "text/plain": [
       "<Figure size 1080x720 with 1 Axes>"
      ]
     },
     "metadata": {
      "needs_background": "light"
     },
     "output_type": "display_data"
    }
   ],
   "source": [
    "fig, ax = plt.subplots(figsize=[15,10])\n",
    "ax.bar(freq.index, freq)\n",
    "ax.axvline(x = 75.5, color = 'r', label='cutoff')  \n",
    "ax.set(xlabel='positive return months',\n",
    "       ylabel='number of stocks',\n",
    "       title=f'Number of Months with Positive Returns in the Last Ten Years,\\nFrequency Distribution Across US-Listed Stocks (n={len(df)})')"
   ]
  },
  {
   "cell_type": "code",
   "execution_count": 10,
   "id": "united-force",
   "metadata": {},
   "outputs": [
    {
     "name": "stdout",
     "output_type": "stream",
     "text": [
      "Average number of positive months: 63.37\n",
      "Standard Deviation: 8.53\n",
      "2 Sigma level: 80.43\n"
     ]
    }
   ],
   "source": [
    "returns = df['positive returns']\n",
    "retmean = returns.mean()\n",
    "sigma = returns.std()\n",
    "twoSigma = retmean + 2*sigma\n",
    "print(f'Average number of positive months: {retmean:.2f}\\nStandard Deviation: {sigma:.2f}\\n2 Sigma level: {twoSigma:.2f}')"
   ]
  },
  {
   "cell_type": "markdown",
   "id": "placed-senate",
   "metadata": {},
   "source": [
    "I am looking for a cutoff level that would separate the top performers from the rest of the group. The data does not look normally distributed, as the left tail appears a lot longer than the right. A bunch of normality tests I ran seemed inconclusive (see the end). So, instead of using standard deviations to characterize the top echelon, I decided to focus on the top 5%, which conveniently also conincides with the number of stocks that sit above the median plus interquartile range `(64 + (69-58)=75` (see below)."
   ]
  },
  {
   "cell_type": "code",
   "execution_count": 11,
   "id": "protecting-ecuador",
   "metadata": {},
   "outputs": [
    {
     "data": {
      "text/plain": [
       "0.010    40.27\n",
       "0.025    46.00\n",
       "0.050    49.00\n",
       "0.100    52.00\n",
       "0.250    58.00\n",
       "0.500    64.00\n",
       "0.750    69.00\n",
       "0.900    73.00\n",
       "0.950    75.00\n",
       "0.975    77.00\n",
       "0.990    80.00\n",
       "Name: positive returns, dtype: float64"
      ]
     },
     "execution_count": 11,
     "metadata": {},
     "output_type": "execute_result"
    }
   ],
   "source": [
    "returns.quantile([.01, .025, 0.05, .1, .25, .5, .75, .9, 0.95, 0.975, 0.99])"
   ]
  },
  {
   "cell_type": "markdown",
   "id": "first-expert",
   "metadata": {},
   "source": [
    "And drumroll...\n",
    "\n",
    "Here, finally, are the winners:"
   ]
  },
  {
   "cell_type": "code",
   "execution_count": 12,
   "id": "spectacular-climate",
   "metadata": {},
   "outputs": [
    {
     "data": {
      "text/html": [
       "<div>\n",
       "<style scoped>\n",
       "    .dataframe tbody tr th:only-of-type {\n",
       "        vertical-align: middle;\n",
       "    }\n",
       "\n",
       "    .dataframe tbody tr th {\n",
       "        vertical-align: top;\n",
       "    }\n",
       "\n",
       "    .dataframe thead th {\n",
       "        text-align: right;\n",
       "    }\n",
       "</style>\n",
       "<table border=\"1\" class=\"dataframe\">\n",
       "  <thead>\n",
       "    <tr style=\"text-align: right;\">\n",
       "      <th></th>\n",
       "      <th>name</th>\n",
       "      <th>sector</th>\n",
       "      <th>industry</th>\n",
       "      <th>positive returns</th>\n",
       "    </tr>\n",
       "    <tr>\n",
       "      <th>symbol</th>\n",
       "      <th></th>\n",
       "      <th></th>\n",
       "      <th></th>\n",
       "      <th></th>\n",
       "    </tr>\n",
       "  </thead>\n",
       "  <tbody>\n",
       "    <tr>\n",
       "      <th>SPGI</th>\n",
       "      <td>S&amp;P Global Inc</td>\n",
       "      <td>TECH</td>\n",
       "      <td>INTERNET</td>\n",
       "      <td>83</td>\n",
       "    </tr>\n",
       "    <tr>\n",
       "      <th>MA</th>\n",
       "      <td>Mastercard Inc</td>\n",
       "      <td>FINANCIAL</td>\n",
       "      <td>FINSPECIAL</td>\n",
       "      <td>83</td>\n",
       "    </tr>\n",
       "    <tr>\n",
       "      <th>FAF</th>\n",
       "      <td>First American Financial Corp</td>\n",
       "      <td>FINANCIAL</td>\n",
       "      <td>INSURANCE</td>\n",
       "      <td>83</td>\n",
       "    </tr>\n",
       "    <tr>\n",
       "      <th>CTAS</th>\n",
       "      <td>Cintas Corp</td>\n",
       "      <td>BIZSVCE</td>\n",
       "      <td>BIZSUPPORT</td>\n",
       "      <td>83</td>\n",
       "    </tr>\n",
       "    <tr>\n",
       "      <th>V</th>\n",
       "      <td>Visa Inc</td>\n",
       "      <td>FINANCIAL</td>\n",
       "      <td>FINSPECIAL</td>\n",
       "      <td>82</td>\n",
       "    </tr>\n",
       "    <tr>\n",
       "      <th>...</th>\n",
       "      <td>...</td>\n",
       "      <td>...</td>\n",
       "      <td>...</td>\n",
       "      <td>...</td>\n",
       "    </tr>\n",
       "    <tr>\n",
       "      <th>SO</th>\n",
       "      <td>Southern Co (The)</td>\n",
       "      <td>UTIL</td>\n",
       "      <td>ENERGYUTIL</td>\n",
       "      <td>76</td>\n",
       "    </tr>\n",
       "    <tr>\n",
       "      <th>DEI</th>\n",
       "      <td>Douglas Emmett Inc</td>\n",
       "      <td>FINANCIAL</td>\n",
       "      <td>REIT</td>\n",
       "      <td>76</td>\n",
       "    </tr>\n",
       "    <tr>\n",
       "      <th>STE</th>\n",
       "      <td>Steris Plc</td>\n",
       "      <td>HEALTHCARE</td>\n",
       "      <td>HCAREMISC</td>\n",
       "      <td>76</td>\n",
       "    </tr>\n",
       "    <tr>\n",
       "      <th>TDY</th>\n",
       "      <td>Teledyne Technologies Inc.</td>\n",
       "      <td>INDUSTRIAL</td>\n",
       "      <td>MACHINE</td>\n",
       "      <td>76</td>\n",
       "    </tr>\n",
       "    <tr>\n",
       "      <th>MMM</th>\n",
       "      <td>3M Co</td>\n",
       "      <td>MATERIALS</td>\n",
       "      <td>MATOTHER</td>\n",
       "      <td>76</td>\n",
       "    </tr>\n",
       "  </tbody>\n",
       "</table>\n",
       "<p>134 rows × 4 columns</p>\n",
       "</div>"
      ],
      "text/plain": [
       "                                 name      sector    industry  \\\n",
       "symbol                                                          \n",
       "SPGI                   S&P Global Inc        TECH    INTERNET   \n",
       "MA                     Mastercard Inc   FINANCIAL  FINSPECIAL   \n",
       "FAF     First American Financial Corp   FINANCIAL   INSURANCE   \n",
       "CTAS                      Cintas Corp     BIZSVCE  BIZSUPPORT   \n",
       "V                            Visa Inc   FINANCIAL  FINSPECIAL   \n",
       "...                               ...         ...         ...   \n",
       "SO                  Southern Co (The)        UTIL  ENERGYUTIL   \n",
       "DEI                Douglas Emmett Inc   FINANCIAL        REIT   \n",
       "STE                        Steris Plc  HEALTHCARE   HCAREMISC   \n",
       "TDY        Teledyne Technologies Inc.  INDUSTRIAL     MACHINE   \n",
       "MMM                             3M Co   MATERIALS    MATOTHER   \n",
       "\n",
       "        positive returns  \n",
       "symbol                    \n",
       "SPGI                  83  \n",
       "MA                    83  \n",
       "FAF                   83  \n",
       "CTAS                  83  \n",
       "V                     82  \n",
       "...                  ...  \n",
       "SO                    76  \n",
       "DEI                   76  \n",
       "STE                   76  \n",
       "TDY                   76  \n",
       "MMM                   76  \n",
       "\n",
       "[134 rows x 4 columns]"
      ]
     },
     "execution_count": 12,
     "metadata": {},
     "output_type": "execute_result"
    }
   ],
   "source": [
    "topstocks = df[df['positive returns']> 75].sort_values(by='positive returns', ascending=False)\n",
    "topstocks"
   ]
  },
  {
   "cell_type": "code",
   "execution_count": 23,
   "id": "pressing-salem",
   "metadata": {},
   "outputs": [
    {
     "data": {
      "text/html": [
       "<div>\n",
       "<style scoped>\n",
       "    .dataframe tbody tr th:only-of-type {\n",
       "        vertical-align: middle;\n",
       "    }\n",
       "\n",
       "    .dataframe tbody tr th {\n",
       "        vertical-align: top;\n",
       "    }\n",
       "\n",
       "    .dataframe thead th {\n",
       "        text-align: right;\n",
       "    }\n",
       "</style>\n",
       "<table border=\"1\" class=\"dataframe\">\n",
       "  <thead>\n",
       "    <tr style=\"text-align: right;\">\n",
       "      <th></th>\n",
       "      <th>name</th>\n",
       "      <th>sector</th>\n",
       "      <th>industry</th>\n",
       "      <th>positive returns</th>\n",
       "    </tr>\n",
       "    <tr>\n",
       "      <th>symbol</th>\n",
       "      <th></th>\n",
       "      <th></th>\n",
       "      <th></th>\n",
       "      <th></th>\n",
       "    </tr>\n",
       "  </thead>\n",
       "  <tbody>\n",
       "    <tr>\n",
       "      <th>UNH</th>\n",
       "      <td>Unitedhealth Group Inc</td>\n",
       "      <td>HEALTHCARE</td>\n",
       "      <td>HCARESUPPORT</td>\n",
       "      <td>79</td>\n",
       "    </tr>\n",
       "    <tr>\n",
       "      <th>RMD</th>\n",
       "      <td>Resmed Inc</td>\n",
       "      <td>HEALTHCARE</td>\n",
       "      <td>MEDDEVICESOTHER</td>\n",
       "      <td>79</td>\n",
       "    </tr>\n",
       "    <tr>\n",
       "      <th>ALGN</th>\n",
       "      <td>Align Technology Inc</td>\n",
       "      <td>HEALTHCARE</td>\n",
       "      <td>MEDDEVICESOTHER</td>\n",
       "      <td>78</td>\n",
       "    </tr>\n",
       "    <tr>\n",
       "      <th>WST</th>\n",
       "      <td>West Pharmaceutical Services Inc.</td>\n",
       "      <td>HEALTHCARE</td>\n",
       "      <td>HCAREDIAGNOSTICS</td>\n",
       "      <td>78</td>\n",
       "    </tr>\n",
       "    <tr>\n",
       "      <th>ABT</th>\n",
       "      <td>Abbott Laboratories</td>\n",
       "      <td>HEALTHCARE</td>\n",
       "      <td>MEDDEVICESGEN</td>\n",
       "      <td>76</td>\n",
       "    </tr>\n",
       "    <tr>\n",
       "      <th>TMO</th>\n",
       "      <td>Thermo Fisher Scientific Inc</td>\n",
       "      <td>HEALTHCARE</td>\n",
       "      <td>MEDDEVICESGEN</td>\n",
       "      <td>76</td>\n",
       "    </tr>\n",
       "    <tr>\n",
       "      <th>JNJ</th>\n",
       "      <td>Johnson &amp; Johnson</td>\n",
       "      <td>HEALTHCARE</td>\n",
       "      <td>BIOPHARMAOTHER</td>\n",
       "      <td>76</td>\n",
       "    </tr>\n",
       "    <tr>\n",
       "      <th>ICLR</th>\n",
       "      <td>Icon PLC</td>\n",
       "      <td>HEALTHCARE</td>\n",
       "      <td>HCAREOUTSOURCE</td>\n",
       "      <td>76</td>\n",
       "    </tr>\n",
       "    <tr>\n",
       "      <th>LLY</th>\n",
       "      <td>Eli Lilly and Co</td>\n",
       "      <td>HEALTHCARE</td>\n",
       "      <td>BIOPHARMAOTHER</td>\n",
       "      <td>76</td>\n",
       "    </tr>\n",
       "    <tr>\n",
       "      <th>STE</th>\n",
       "      <td>Steris Plc</td>\n",
       "      <td>HEALTHCARE</td>\n",
       "      <td>HCAREMISC</td>\n",
       "      <td>76</td>\n",
       "    </tr>\n",
       "  </tbody>\n",
       "</table>\n",
       "</div>"
      ],
      "text/plain": [
       "                                     name      sector          industry  \\\n",
       "symbol                                                                    \n",
       "UNH                Unitedhealth Group Inc  HEALTHCARE      HCARESUPPORT   \n",
       "RMD                            Resmed Inc  HEALTHCARE   MEDDEVICESOTHER   \n",
       "ALGN                 Align Technology Inc  HEALTHCARE   MEDDEVICESOTHER   \n",
       "WST     West Pharmaceutical Services Inc.  HEALTHCARE  HCAREDIAGNOSTICS   \n",
       "ABT                   Abbott Laboratories  HEALTHCARE     MEDDEVICESGEN   \n",
       "TMO          Thermo Fisher Scientific Inc  HEALTHCARE     MEDDEVICESGEN   \n",
       "JNJ                     Johnson & Johnson  HEALTHCARE    BIOPHARMAOTHER   \n",
       "ICLR                             Icon PLC  HEALTHCARE    HCAREOUTSOURCE   \n",
       "LLY                      Eli Lilly and Co  HEALTHCARE    BIOPHARMAOTHER   \n",
       "STE                            Steris Plc  HEALTHCARE         HCAREMISC   \n",
       "\n",
       "        positive returns  \n",
       "symbol                    \n",
       "UNH                   79  \n",
       "RMD                   79  \n",
       "ALGN                  78  \n",
       "WST                   78  \n",
       "ABT                   76  \n",
       "TMO                   76  \n",
       "JNJ                   76  \n",
       "ICLR                  76  \n",
       "LLY                   76  \n",
       "STE                   76  "
      ]
     },
     "execution_count": 23,
     "metadata": {},
     "output_type": "execute_result"
    }
   ],
   "source": [
    "topstocks[topstocks['sector']=='HEALTHCARE'].sort_values(by='positive returns', ascending=False)"
   ]
  },
  {
   "cell_type": "code",
   "execution_count": 14,
   "id": "stuck-avenue",
   "metadata": {},
   "outputs": [
    {
     "data": {
      "text/html": [
       "<div>\n",
       "<style scoped>\n",
       "    .dataframe tbody tr th:only-of-type {\n",
       "        vertical-align: middle;\n",
       "    }\n",
       "\n",
       "    .dataframe tbody tr th {\n",
       "        vertical-align: top;\n",
       "    }\n",
       "\n",
       "    .dataframe thead th {\n",
       "        text-align: right;\n",
       "    }\n",
       "</style>\n",
       "<table border=\"1\" class=\"dataframe\">\n",
       "  <thead>\n",
       "    <tr style=\"text-align: right;\">\n",
       "      <th></th>\n",
       "      <th>name</th>\n",
       "      <th>sector</th>\n",
       "      <th>industry</th>\n",
       "      <th>positive returns</th>\n",
       "    </tr>\n",
       "    <tr>\n",
       "      <th>symbol</th>\n",
       "      <th></th>\n",
       "      <th></th>\n",
       "      <th></th>\n",
       "      <th></th>\n",
       "    </tr>\n",
       "  </thead>\n",
       "  <tbody>\n",
       "    <tr>\n",
       "      <th>AAPL</th>\n",
       "      <td>Apple Inc</td>\n",
       "      <td>TECH</td>\n",
       "      <td>COMMEQUIP</td>\n",
       "      <td>70</td>\n",
       "    </tr>\n",
       "    <tr>\n",
       "      <th>AMZN</th>\n",
       "      <td>Amazon.com Inc</td>\n",
       "      <td>NONCYCLICAL</td>\n",
       "      <td>GENMERCH</td>\n",
       "      <td>73</td>\n",
       "    </tr>\n",
       "    <tr>\n",
       "      <th>GOOGL</th>\n",
       "      <td>Alphabet Inc</td>\n",
       "      <td>TECH</td>\n",
       "      <td>INTERNET</td>\n",
       "      <td>75</td>\n",
       "    </tr>\n",
       "    <tr>\n",
       "      <th>NFLX</th>\n",
       "      <td>Netflix Inc</td>\n",
       "      <td>TECH</td>\n",
       "      <td>INTERNET</td>\n",
       "      <td>76</td>\n",
       "    </tr>\n",
       "  </tbody>\n",
       "</table>\n",
       "</div>"
      ],
      "text/plain": [
       "                  name       sector   industry  positive returns\n",
       "symbol                                                          \n",
       "AAPL         Apple Inc         TECH  COMMEQUIP                70\n",
       "AMZN    Amazon.com Inc  NONCYCLICAL   GENMERCH                73\n",
       "GOOGL     Alphabet Inc         TECH   INTERNET                75\n",
       "NFLX       Netflix Inc         TECH   INTERNET                76"
      ]
     },
     "execution_count": 14,
     "metadata": {},
     "output_type": "execute_result"
    }
   ],
   "source": [
    "faang = ['AAPL','GOOGL', 'FB', 'NFLX', 'AMZN'] # Where are all the FAANG stocks?\n",
    "df.loc[df.index.isin(faang)]"
   ]
  },
  {
   "cell_type": "markdown",
   "id": "returning-monitor",
   "metadata": {},
   "source": [
    "NFLX is the only of the FAANG stocks to make the cutoff. That might surprise some. Granted, FB was disqualified by its lack of 10-year trading history and the others get close to the top 5%. Given this group's massive outperformance over the past few years one might have expected them at the top of this list, as well.\n",
    "\n",
    "Another slight disappointment was the number of positive months for even the greatest winners. We are looking back at 120 months of returns. And the median stock managed to have a positive return in just 64 of these 120 months. Only 1% of stocks managed to make their owners money in at least two out of every three months (80+ out of 120).\n",
    "\n",
    "The only explanation I can think of for that last point is that market-wide sell-offs tend to swamp the idiosyncracies of stocks. That, in fact, may be an opportunity for the alert: If these top gainers really only drop during times of market distress, then money may be made by focusing investments on them, once the dust clears at the end of a significant sell-offf."
   ]
  },
  {
   "cell_type": "code",
   "execution_count": 15,
   "id": "southern-amount",
   "metadata": {},
   "outputs": [
    {
     "data": {
      "text/plain": [
       "UTIL            16\n",
       "TECH            17\n",
       "TELECOM          3\n",
       "INDUSTRIAL      15\n",
       "FINANCIAL       40\n",
       "MATERIALS        7\n",
       "CONSUMERSVCE     4\n",
       "NONCYCLICAL      3\n",
       "CYCLICALS        7\n",
       "BIZSVCE         12\n",
       "HEALTHCARE      10\n",
       "Name: sector, dtype: int64"
      ]
     },
     "execution_count": 15,
     "metadata": {},
     "output_type": "execute_result"
    }
   ],
   "source": [
    "sectortops = topstocks['sector'].value_counts(sort=False)\n",
    "sectortops"
   ]
  },
  {
   "cell_type": "code",
   "execution_count": 22,
   "id": "appropriate-butler",
   "metadata": {},
   "outputs": [
    {
     "data": {
      "text/plain": [
       "UTIL            0.225352\n",
       "BIZSVCE         0.113208\n",
       "FINANCIAL       0.055249\n",
       "TECH            0.052147\n",
       "TELECOM         0.050847\n",
       "INDUSTRIAL      0.047170\n",
       "CONSUMERSVCE    0.040000\n",
       "CYCLICALS       0.038889\n",
       "MATERIALS       0.029412\n",
       "HEALTHCARE      0.025641\n",
       "NONCYCLICAL     0.017544\n",
       "ENERGY               NaN\n",
       "Name: sector, dtype: float64"
      ]
     },
     "execution_count": 22,
     "metadata": {},
     "output_type": "execute_result"
    }
   ],
   "source": [
    "sectorperf = sectortops/sectorcount\n",
    "sectorperf.sort_values(ascending=False)"
   ]
  },
  {
   "cell_type": "markdown",
   "id": "caring-break",
   "metadata": {},
   "source": [
    "## Some tests of normality of the frequency data\n",
    "\n",
    "The results end up being inclonclusive, so I didn't do any parametric analysis of the frequency data."
   ]
  },
  {
   "cell_type": "code",
   "execution_count": 17,
   "id": "optimum-avatar",
   "metadata": {},
   "outputs": [
    {
     "data": {
      "image/png": "[encoded data removed]",
      "text/plain": [
       "<Figure size 432x288 with 1 Axes>"
      ]
     },
     "metadata": {
      "needs_background": "light"
     },
     "output_type": "display_data"
    }
   ],
   "source": [
    "from statsmodels.graphics.gofplots import qqplot\n",
    "qqplot(returns, line='s'); #the semicolon prevents duplication of the graph. See https://github.com/statsmodels/statsmodels/issues/1265#issuecomment-383336489"
   ]
  },
  {
   "cell_type": "markdown",
   "id": "chemical-reason",
   "metadata": {},
   "source": [
    "Looks like the left tail is too heavy and right one is light. Below are a few tests for normality."
   ]
  },
  {
   "cell_type": "code",
   "execution_count": 18,
   "id": "ranking-winner",
   "metadata": {},
   "outputs": [
    {
     "name": "stdout",
     "output_type": "stream",
     "text": [
      "Shapiro test statistic: 0.9677339792251587, p-value: 1.0397180814356146e-24\n",
      "\n"
     ]
    }
   ],
   "source": [
    "from scipy.stats import shapiro, anderson, normaltest\n",
    "shap, shap_p = shapiro(returns)\n",
    "print(f\"Shapiro test statistic: {shap}, p-value: {shap_p}\\n\")"
   ]
  },
  {
   "cell_type": "markdown",
   "id": "acquired-jacket",
   "metadata": {},
   "source": [
    "The Shapiro-Wilk test suggests normality is not violated, but I am skeptical. Below is an Anderson-Darling test."
   ]
  },
  {
   "cell_type": "code",
   "execution_count": 19,
   "id": "dress-roman",
   "metadata": {},
   "outputs": [
    {
     "name": "stdout",
     "output_type": "stream",
     "text": [
      "Anderson-Darling test statistic: 13.730\n",
      "Siglevel: 15,\tcritical value: 0.575\n",
      "Siglevel: 10,\tcritical value: 0.655\n",
      "Siglevel:  5,\tcritical value: 0.786\n",
      "Siglevel:  2,\tcritical value: 0.917\n",
      "Siglevel:  1,\tcritical value: 1.090\n",
      "\n"
     ]
    }
   ],
   "source": [
    "andar = anderson(returns, dist='norm')\n",
    "rstring = f'Anderson-Darling test statistic: {andar.statistic:.3f}\\n'\n",
    "for i in range(len(andar.critical_values)):\n",
    "    rstring += f'Siglevel: {andar.significance_level[i]:2.0f},\\tcritical value: {andar.critical_values[i]:.3f}\\n'\n",
    "print(rstring)"
   ]
  },
  {
   "cell_type": "markdown",
   "id": "humanitarian-horror",
   "metadata": {},
   "source": [
    "Significant at every level. Suggests strongly that normality must be rejected."
   ]
  },
  {
   "cell_type": "code",
   "execution_count": 20,
   "id": "obvious-minority",
   "metadata": {},
   "outputs": [
    {
     "name": "stdout",
     "output_type": "stream",
     "text": [
      "D'Agostino-Pearson test statistic: 368.51201821931966, p-value: 9.519891225621317e-81\n",
      "\n"
     ]
    }
   ],
   "source": [
    "dagpea, dagpea_p = normaltest(returns)\n",
    "print(f\"D\\'Agostino-Pearson test statistic: {dagpea}, p-value: {dagpea_p}\\n\")"
   ]
  },
  {
   "cell_type": "markdown",
   "id": "virgin-progress",
   "metadata": {},
   "source": [
    "D'Agostino-Pearson cannot reject the normal distribution null Hypothesis. What. Ever. So, there's just no clarity."
   ]
  },
  {
   "cell_type": "code",
   "execution_count": null,
   "id": "generic-hometown",
   "metadata": {},
   "outputs": [],
   "source": []
  }
 ],
 "metadata": {
  "kernelspec": {
   "display_name": "Python 3",
   "language": "python",
   "name": "python3"
  },
  "language_info": {
   "codemirror_mode": {
    "name": "ipython",
    "version": 3
   },
   "file_extension": ".py",
   "mimetype": "text/x-python",
   "name": "python",
   "nbconvert_exporter": "python",
   "pygments_lexer": "ipython3",
   "version": "3.8.8"
  }
 },
 "nbformat": 4,
 "nbformat_minor": 5
}
